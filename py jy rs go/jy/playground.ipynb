{
 "cells": [
  {
   "cell_type": "code",
   "execution_count": 1,
   "id": "7c9fa2c9",
   "metadata": {},
   "outputs": [
    {
     "name": "stdout",
     "output_type": "stream",
     "text": [
      "Element found at index 4\n"
     ]
    }
   ],
   "source": [
    "def binary_search(arr, target):\n",
    "    left, right = 0, len(arr) - 1\n",
    "\n",
    "    while left <= right:\n",
    "        mid = left + (right - left) // 2\n",
    "\n",
    "        if arr[mid] == target:\n",
    "            return mid\n",
    "        elif arr[mid] < target:\n",
    "            left = mid + 1\n",
    "        else:\n",
    "            right = mid - 1\n",
    "    return -1\n",
    "\n",
    "if __name__ == \"__main__\":\n",
    "    arr = [1, 2, 3, 4, 5, 6, 7, 8, 9]\n",
    "    target = 5\n",
    "    result = binary_search(arr, target)\n",
    "    if result != -1:\n",
    "        print(f\"Element found at index {result}\")\n",
    "    else:\n",
    "        print(\"Element not found in array\")"
   ]
  },
  {
   "cell_type": "code",
   "execution_count": 2,
   "id": "8358cb57",
   "metadata": {},
   "outputs": [],
   "source": [
    "class StaticArray:\n",
    "\n",
    "    def __init__(self, size, default_value=None):\n",
    "        if size <= 0:\n",
    "            raise ValueError(\"Size must be positive\")\n",
    "        self._size = size\n",
    "        self._data = [default_value] * 5\n",
    "        #print(self._data)\n",
    "\n",
    "    def __len__(self):\n",
    "        return self._size\n",
    "    \n",
    "    \n",
    "    \n",
    "s = StaticArray(5,)\n",
    "\n",
    "    "
   ]
  },
  {
   "cell_type": "code",
   "execution_count": null,
   "id": "5bd4a529",
   "metadata": {},
   "outputs": [
    {
     "name": "stdout",
     "output_type": "stream",
     "text": [
      "124\n",
      "[1, 2, 4]\n"
     ]
    }
   ],
   "source": [
    "class Solution:\n",
    "    def plusOne(self, digits):\n",
    "        digit = 0\n",
    "        result = []\n",
    "        for i in digits:\n",
    "            digit = digit * 10 + i\n",
    "        digit = digit + 1\n",
    "        result = [int(digit_0) for digit_0 in str(digit)]\n",
    "        return result\n",
    "        \n",
    "\n",
    "arr = [1,2,3]\n",
    "s = Solution()\n",
    "result = s.plusOne(arr)\n",
    "print(result)"
   ]
  },
  {
   "cell_type": "code",
   "execution_count": null,
   "id": "9cdbec3d",
   "metadata": {},
   "outputs": [],
   "source": [
    "class Solution:\n",
    "    def addBinary(self, a: str, b: str) -> str:\n",
    "        result = \"\"\n",
    "        \n",
    "        return result\n",
    "\n",
    "a = \"1001\"\n",
    "b = \"1010\"\n",
    "\n",
    "s = Solution()\n",
    "result = s.addBinary(a, b)\n"
   ]
  },
  {
   "cell_type": "code",
   "execution_count": null,
   "id": "b464bea6",
   "metadata": {},
   "outputs": [
    {
     "name": "stdout",
     "output_type": "stream",
     "text": [
      "result:  10101\n"
     ]
    }
   ],
   "source": [
    "# binary_str = \"1010\"\n",
    "# num = int(binary_str, 2)  # Converts \"1010\" to 10\n",
    "# print(num)  # Output: 10\n",
    "\n",
    "# num = 10\n",
    "# binary_str = bin(num)[2:]  # '1010'\n",
    "# print(binary_str)\n",
    "\n",
    "class Solution:\n",
    "    def addBinary(self, a: str, b: str) -> str:\n",
    "        v = 0 if a < b else 1\n",
    "        a = int(a, 2)\n",
    "        b = int(b, 2)\n",
    "        c = a + b\n",
    "        result = bin(c)[2:]\n",
    "        return result\n",
    "\n",
    "# Input: a = \"1010\", b = \"1011\"\n",
    "# Output: \"10101\"\n",
    "a = \"1010\"\n",
    "b = \"1011\"\n",
    "s = Solution()\n",
    "result = s.addBinary(a, b)\n",
    "print(\"result: \", result)"
   ]
  }
 ],
 "metadata": {
  "kernelspec": {
   "display_name": "Python 3",
   "language": "python",
   "name": "python3"
  },
  "language_info": {
   "codemirror_mode": {
    "name": "ipython",
    "version": 3
   },
   "file_extension": ".py",
   "mimetype": "text/x-python",
   "name": "python",
   "nbconvert_exporter": "python",
   "pygments_lexer": "ipython3",
   "version": "3.13.7"
  }
 },
 "nbformat": 4,
 "nbformat_minor": 5
}
