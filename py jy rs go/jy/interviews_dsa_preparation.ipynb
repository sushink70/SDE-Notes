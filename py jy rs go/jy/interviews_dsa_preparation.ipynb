{
 "cells": [
  {
   "cell_type": "code",
   "execution_count": null,
   "id": "1fa40c7d",
   "metadata": {},
   "outputs": [],
   "source": [
    "def manual_memoize(func):\n",
    "    \"\"\"Manual memoization decorator using a dictionary cache.\"\"\"\n",
    "    cache = {}\n",
    "    \n",
    "    \n",
    "    def wrapper(*args, **kwargs):\n",
    "        print(f\"Calling {func.__name__} with args: {args}\")\n",
    "        if args in cache:\n",
    "            return cache[args]\n",
    "        result = func(*args, **kwargs)\n",
    "        cache[args] = result\n",
    "        return result\n",
    "    \n",
    "    wrapper.cache = cache\n",
    "    wrapper.cache_clear = lambda: cache.clear()\n",
    "    return wrapper\n",
    "\n",
    "# Example usage\n",
    "@manual_memoize\n",
    "def fibonacci(n):\n",
    "    if n < 2:\n",
    "        return n\n",
    "    return fibonacci(n - 1) + fibonacci(n - 2)\n",
    "\n",
    "# Test the function\n",
    "print(f\"fibonacci(5) = {fibonacci(5)}\")\n",
    "print(f\"Cache size: {len(fibonacci.cache)}\")"
   ]
  },
  {
   "cell_type": "code",
   "execution_count": null,
   "id": "591c7249",
   "metadata": {},
   "outputs": [],
   "source": [
    "x = 10\n",
    "import time\n",
    "\n",
    "while x > 0:\n",
    "    print(x)\n",
    "    if x == 3:\n",
    "        print(\"Preparing for liftoff...\")\n",
    "        break       \n",
    "    time.sleep(1)\n",
    "    x -= 1\n",
    "print(\"Liftoff!\")"
   ]
  },
  {
   "cell_type": "code",
   "execution_count": null,
   "id": "6be5d678",
   "metadata": {},
   "outputs": [],
   "source": [
    "x = 10\n",
    "import time\n",
    "\n",
    "for i in range(x, 0, -1):\n",
    "    print(i)\n",
    "    if i == 3:\n",
    "        print(\"Preparing for liftoff...\")\n",
    "        break       \n",
    "    time.sleep(1)    \n",
    "print(\"Liftoff!\")"
   ]
  },
  {
   "cell_type": "code",
   "execution_count": null,
   "id": "fa643d92",
   "metadata": {},
   "outputs": [],
   "source": [
    "def factorial(n):\n",
    "    \"\"\"Calculate n! efficiently\"\"\"\n",
    "    if n <= 1:\n",
    "        return 1\n",
    "    result = 1\n",
    "    for i in range(2, n + 1):\n",
    "        result *= i\n",
    "    print(f\"factorial({n}) = {result}\")\n",
    "    return result\n",
    "    # factorial formula: n! = n * (n-1) * (n-2) * ... * 1\n",
    "\n",
    "def count_arrangements(items):\n",
    "    \"\"\"Count arrangements considering duplicates\"\"\"\n",
    "    from collections import Counter\n",
    "    counts = Counter(items)\n",
    "    print(f\"Item counts: {counts}\")\n",
    "    n = len(items)\n",
    "    print(f\"Total items (n): {n}\")\n",
    "    result = factorial(n)\n",
    "    print(f\"Initial arrangements (n!): {result}\")\n",
    "    for count in counts.values():\n",
    "        result //= factorial(count)\n",
    "    return result\n",
    "\n",
    "# Example usage\n",
    "items = ['A', 'B', 'A', 'C']\n",
    "print(f\"Number of arrangements for {items}: {count_arrangements(items)}\")\n"
   ]
  },
  {
   "cell_type": "code",
   "execution_count": null,
   "id": "9a1e2751",
   "metadata": {},
   "outputs": [],
   "source": [
    "def count_paths(m, n, obstacles=None):\n",
    "    \"\"\"Count paths in grid with obstacles\"\"\"\n",
    "    if obstacles is None:\n",
    "        obstacles = set()\n",
    "    \n",
    "    dp = [[0] * (n + 1) for _ in range(m + 1)]\n",
    "    dp[0][0] = 1\n",
    "    \n",
    "    for i in range(m + 1):\n",
    "        for j in range(n + 1):\n",
    "            if (i, j) in obstacles:\n",
    "                dp[i][j] = 0\n",
    "            elif i > 0:\n",
    "                dp[i][j] += dp[i-1][j]\n",
    "            elif j > 0:\n",
    "                dp[i][j] += dp[i][j-1]\n",
    "    \n",
    "    return dp[m][n]\n",
    "\n",
    "# Example usage\n",
    "m, n = 3, 3\n",
    "obstacles = {(1, 1)}\n",
    "# Diagram of grid with obstacles from (0,0) to (2,2)\n",
    "print(f\"Number of paths in {m}x{n} grid with obstacles {obstacles}: {count_paths(m, n, obstacles)}\")\n",
    "\n",
    "#ascii diagram Count paths in grid with obstacles\n",
    "\"\"\"\n",
    "+---+---+---+\n",
    "| 0 | 1 | 2 |\n",
    "+---+---+---+\n",
    "| 3 | X | 5 |\n",
    "+---+---+---+\n",
    "| 6 | 7 | 8 |\n",
    "+---+---+---+\n",
    "\"\"\""
   ]
  },
  {
   "cell_type": "code",
   "execution_count": 15,
   "id": "a7629a5e",
   "metadata": {},
   "outputs": [
    {
     "name": "stdout",
     "output_type": "stream",
     "text": [
      "dp:  [[0, 0, 0, 0, 0, 0, 0, 0], [0, 0, 0, 0, 0, 0, 0, 0], [0, 0, 0, 0, 0, 0, 0, 0], [0, 0, 0, 0, 0, 0, 0, 0], [0, 0, 0, 0, 0, 0, 0, 0], [0, 0, 0, 0, 0, 0, 0, 0]]\n",
      "dp:  [[1, 0, 0, 0, 0, 0, 0, 0], [0, 0, 0, 0, 0, 0, 0, 0], [0, 0, 0, 0, 0, 0, 0, 0], [0, 0, 0, 0, 0, 0, 0, 0], [0, 0, 0, 0, 0, 0, 0, 0], [0, 0, 0, 0, 0, 0, 0, 0]]\n",
      "1\n"
     ]
    },
    {
     "data": {
      "text/plain": [
       "1"
      ]
     },
     "execution_count": 15,
     "metadata": {},
     "output_type": "execute_result"
    }
   ],
   "source": [
    "def count_paths(m, n, obstacles=None):\n",
    "    if obstacles is None:\n",
    "        obstacles = set()\n",
    "        print(\"obstacles:\", obstacles)\n",
    "\n",
    "    dp = [[0] * (n + 1) for _ in range(m + 1)]\n",
    "    print(\"dp: \", dp)\n",
    "    dp[0][0] = 1\n",
    "    print(\"dp: \", dp)\n",
    "\n",
    "    for i in range(m + 1):\n",
    "        for j in range(n + 1):\n",
    "            if (i, j) in obstacles:\n",
    "                    dp[i][j] = 0\n",
    "            elif i > 0:\n",
    "                    dp[i][j] += dp[i - 1][j]\n",
    "            elif j > 0:\n",
    "                    dp[i][j] += dp[i][j - 1]\n",
    "    print(dp[m][n])\n",
    "    return dp[m][n]\n",
    "                \n",
    "\n",
    "\n",
    "\n",
    "\n",
    "count_paths(5, 7, (2,1))"
   ]
  }
 ],
 "metadata": {
  "kernelspec": {
   "display_name": ".venv (3.13.7)",
   "language": "python",
   "name": "python3"
  },
  "language_info": {
   "codemirror_mode": {
    "name": "ipython",
    "version": 3
   },
   "file_extension": ".py",
   "mimetype": "text/x-python",
   "name": "python",
   "nbconvert_exporter": "python",
   "pygments_lexer": "ipython3",
   "version": "3.13.7"
  }
 },
 "nbformat": 4,
 "nbformat_minor": 5
}
