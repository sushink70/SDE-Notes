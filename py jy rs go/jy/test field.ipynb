{
 "cells": [
  {
   "cell_type": "code",
   "execution_count": 1,
   "id": "2a68676d",
   "metadata": {},
   "outputs": [
    {
     "name": "stdout",
     "output_type": "stream",
     "text": [
      "2\n",
      "7\n"
     ]
    }
   ],
   "source": [
    "nested_list = [[1, 2, 3], [4, 5, 6], [7, 8, 9]]\n",
    "print(nested_list[0][1])  # Output: 2\n",
    "print(nested_list[2][0])  # Output: 7"
   ]
  },
  {
   "cell_type": "code",
   "execution_count": 2,
   "id": "28dddbdd",
   "metadata": {},
   "outputs": [],
   "source": [
    "def radix_sort_with_negatives(arr):\n",
    "    \"\"\"\n",
    "    Radix Sort that handles negative numbers.\n",
    "    \n",
    "    Args:\n",
    "        arr: List of integers (can include negatives)\n",
    "        \n",
    "    Returns:\n",
    "        Sorted list\n",
    "    \"\"\"\n",
    "    if not arr:\n",
    "        return arr\n",
    "    \n",
    "    # Separate positive and negative numbers\n",
    "    positives = [x for x in arr if x >= 0]\n",
    "    negatives = [-x for x in arr if x < 0]  # Make positive for sorting\n",
    "    \n",
    "    # Sort both arrays\n",
    "    if positives:\n",
    "        radix_sort_lsd(positives)\n",
    "    \n",
    "    if negatives:\n",
    "        radix_sort_lsd(negatives)\n",
    "        # Reverse and negate back\n",
    "        negatives = [-x for x in reversed(negatives)]\n",
    "    \n",
    "    return negatives + positives\n",
    "\n",
    "def radix_sort_lsd(arr):\n",
    "    \"\"\"Same as previous implementation\"\"\"\n",
    "    if not arr:\n",
    "        return arr\n",
    "    \n",
    "    max_num = max(arr)\n",
    "    exp = 1\n",
    "    \n",
    "    while max_num // exp > 0:\n",
    "        counting_sort_by_digit(arr, exp)\n",
    "        exp *= 10\n",
    "    \n",
    "    return arr\n",
    "\n",
    "def counting_sort_by_digit(arr, exp):\n",
    "    \"\"\"Same as previous implementation\"\"\"\n",
    "    n = len(arr)\n",
    "    output = [0] * n\n",
    "    count = [0] * 10\n",
    "    \n",
    "    for i in range(n):\n",
    "        digit = (arr[i] // exp) % 10\n",
    "        count[digit] += 1\n",
    "    \n",
    "    for i in range(1, 10):\n",
    "        count[i] += count[i - 1]\n",
    "    \n",
    "    for i in range(n - 1, -1, -1):\n",
    "        digit = (arr[i] // exp) % 10\n",
    "        output[count[digit] - 1] = arr[i]\n",
    "        count[digit] -= 1\n",
    "    \n",
    "    for i in range(n):\n",
    "        arr[i] = output[i]"
   ]
  },
  {
   "cell_type": "code",
   "execution_count": 3,
   "id": "2d539431",
   "metadata": {},
   "outputs": [
    {
     "name": "stdout",
     "output_type": "stream",
     "text": [
      "Sorted IPs: ['8.8.8.8', '10.0.0.1', '172.16.0.1', '192.168.1.1', '192.168.1.10']\n"
     ]
    }
   ],
   "source": [
    "def sort_ip_addresses(ip_list):\n",
    "    \"\"\"Sort IP addresses using radix sort.\"\"\"\n",
    "    # Convert IP addresses to integers\n",
    "    ip_integers = []\n",
    "    for ip in ip_list:\n",
    "        parts = ip.split('.')\n",
    "        ip_int = (int(parts[0]) << 24) + (int(parts[1]) << 16) + \\\n",
    "                (int(parts[2]) << 8) + int(parts[3])\n",
    "        ip_integers.append((ip_int, ip))\n",
    "    \n",
    "    # Sort by integer representation\n",
    "    ip_integers.sort(key=lambda x: x[0])\n",
    "    \n",
    "    # Extract sorted IPs\n",
    "    return [ip for _, ip in ip_integers]\n",
    "\n",
    "# Example usage\n",
    "ips = [\"192.168.1.1\", \"10.0.0.1\", \"172.16.0.1\", \"192.168.1.10\", \"8.8.8.8\"]\n",
    "sorted_ips = sort_ip_addresses(ips)\n",
    "print(\"Sorted IPs:\", sorted_ips)"
   ]
  }
 ],
 "metadata": {
  "kernelspec": {
   "display_name": ".venv (3.13.6)",
   "language": "python",
   "name": "python3"
  },
  "language_info": {
   "codemirror_mode": {
    "name": "ipython",
    "version": 3
   },
   "file_extension": ".py",
   "mimetype": "text/x-python",
   "name": "python",
   "nbconvert_exporter": "python",
   "pygments_lexer": "ipython3",
   "version": "3.13.6"
  }
 },
 "nbformat": 4,
 "nbformat_minor": 5
}
