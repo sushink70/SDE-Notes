{
 "cells": [
  {
   "cell_type": "code",
   "execution_count": null,
   "metadata": {},
   "outputs": [],
   "source": [
    "\n",
    "### Example 1: Initial List Creation and Appending\n",
    "\n",
    "\n",
    "import sys\n",
    "\n",
    "# Create an empty list\n",
    "my_list = []\n",
    "print(f\"Initial size of empty list: {sys.getsizeof(my_list)} bytes\")\n",
    "\n",
    "# Append elements to the list\n",
    "for i in range(10):\n",
    "    my_list.append(i)\n",
    "    print(f\"Size after appending {i}: {sys.getsizeof(my_list)} bytes\")\n",
    "\n"
   ]
  },
  {
   "cell_type": "code",
   "execution_count": 1,
   "metadata": {},
   "outputs": [
    {
     "name": "stdout",
     "output_type": "stream",
     "text": [
      "i : 2\n",
      "i : 3\n",
      "i : 4\n",
      "i : 5\n",
      "Iterative Result: 8\n"
     ]
    }
   ],
   "source": [
    "def climb_stairs_iterative(n: int) -> int:\n",
    "    # Handle the smallest cases directly\n",
    "    if n <= 1:\n",
    "        return 1\n",
    "\n",
    "    # Initialize the base cases\n",
    "    # a holds the number of ways to climb step (i-2)\n",
    "    # b holds the number of ways to climb step (i-1)\n",
    "    a, b = 1, 1 \n",
    "    \n",
    "    # Loop from step 2 up to n\n",
    "    for i in range(2, n + 1):\n",
    "        print(\"i :\", i)\n",
    "        # Calculate the number of ways to reach the current step (i)\n",
    "        current_ways = a + b\n",
    "        \n",
    "        # Shift the values for the next iteration:\n",
    "        # The old 'b' (ways to i-1) becomes the new 'a' (ways to i-2)\n",
    "        # The current 'current_ways' (ways to i) becomes the new 'b' (ways to i-1)\n",
    "        a = b\n",
    "        b = current_ways\n",
    "        \n",
    "    # 'b' now holds the total ways to climb step n\n",
    "    return b\n",
    "\n",
    "# Example\n",
    "print(f\"Iterative Result: {climb_stairs_iterative(5)}\")"
   ]
  },
  {
   "cell_type": "code",
   "execution_count": 2,
   "metadata": {},
   "outputs": [
    {
     "name": "stdout",
     "output_type": "stream",
     "text": [
      "Initial size with 5 elements: 96 bytes\n",
      "Size after appending 5: 152 bytes\n",
      "Size after appending 6: 152 bytes\n",
      "Size after appending 7: 152 bytes\n",
      "Size after appending 8: 152 bytes\n",
      "Size after appending 9: 152 bytes\n",
      "Size after appending 10: 152 bytes\n",
      "Size after appending 11: 152 bytes\n",
      "Size after appending 12: 216 bytes\n",
      "Size after appending 13: 216 bytes\n",
      "Size after appending 14: 216 bytes\n"
     ]
    }
   ],
   "source": [
    "\n",
    "### Example 2: List Resizing\n",
    "\n",
    "\n",
    "import sys\n",
    "\n",
    "# Create a list with initial elements\n",
    "my_list = [0] * 5\n",
    "print(f\"Initial size with 5 elements: {sys.getsizeof(my_list)} bytes\")\n",
    "\n",
    "# Append more elements to trigger resizing\n",
    "for i in range(5, 15):\n",
    "    my_list.append(i)\n",
    "    print(f\"Size after appending {i}: {sys.getsizeof(my_list)} bytes\")\n",
    "\n"
   ]
  }
 ],
 "metadata": {
  "kernelspec": {
   "display_name": "Python 3",
   "language": "python",
   "name": "python3"
  },
  "language_info": {
   "codemirror_mode": {
    "name": "ipython",
    "version": 3
   },
   "file_extension": ".py",
   "mimetype": "text/x-python",
   "name": "python",
   "nbconvert_exporter": "python",
   "pygments_lexer": "ipython3",
   "version": "3.13.7"
  }
 },
 "nbformat": 4,
 "nbformat_minor": 2
}
