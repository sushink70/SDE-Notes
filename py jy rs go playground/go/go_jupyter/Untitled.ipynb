{
 "cells": [
  {
   "cell_type": "code",
   "execution_count": 1,
   "id": "c76b8a21-6efa-4b4f-b072-1f418b611d27",
   "metadata": {},
   "outputs": [
    {
     "name": "stdout",
     "output_type": "stream",
     "text": [
      "{Bob 20}\n",
      "{Alice 30}\n",
      "{Fred 0}\n",
      "&{Ann 40}\n",
      "&{Jon 42}\n",
      "Sean\n",
      "50\n",
      "51\n",
      "{Rex true}\n"
     ]
    }
   ],
   "source": [
    "package main\n",
    "\n",
    "import \"fmt\"\n",
    "\n",
    "type person struct {\n",
    "    name string\n",
    "    age  int\n",
    "}\n",
    "\n",
    "func newPerson(name string) *person {\n",
    "\n",
    "    p := person{name: name}\n",
    "    p.age = 42\n",
    "    return &p\n",
    "}\n",
    "\n",
    "func main() {\n",
    "\n",
    "    fmt.Println(person{\"Bob\", 20})\n",
    "\n",
    "    fmt.Println(person{name: \"Alice\", age: 30})\n",
    "\n",
    "    fmt.Println(person{name: \"Fred\"})\n",
    "\n",
    "    fmt.Println(&person{name: \"Ann\", age: 40})\n",
    "\n",
    "    fmt.Println(newPerson(\"Jon\"))\n",
    "\n",
    "    s := person{name: \"Sean\", age: 50}\n",
    "    fmt.Println(s.name)\n",
    "\n",
    "    sp := &s\n",
    "    fmt.Println(sp.age)\n",
    "\n",
    "    sp.age = 51\n",
    "    fmt.Println(sp.age)\n",
    "\n",
    "    dog := struct {\n",
    "        name   string\n",
    "        isGood bool\n",
    "    }{\n",
    "        \"Rex\",\n",
    "        true,\n",
    "    }\n",
    "    fmt.Println(dog)\n",
    "}"
   ]
  },
  {
   "cell_type": "code",
   "execution_count": null,
   "id": "a67d45bf-8404-4085-a1fb-47ec4caf8d23",
   "metadata": {},
   "outputs": [],
   "source": []
  }
 ],
 "metadata": {
  "kernelspec": {
   "display_name": "Go (gonb)",
   "language": "go",
   "name": "gonb"
  },
  "language_info": {
   "codemirror_mode": "",
   "file_extension": ".go",
   "mimetype": "text/x-go",
   "name": "go",
   "nbconvert_exporter": "",
   "pygments_lexer": "",
   "version": "go1.24.3"
  }
 },
 "nbformat": 4,
 "nbformat_minor": 5
}
